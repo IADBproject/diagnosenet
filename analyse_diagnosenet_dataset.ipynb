{
 "cells": [
  {
   "cell_type": "markdown",
   "metadata": {},
   "source": [
    "# Analyse diagnosenet dataset for task 1\n",
    "\n",
    "### Import the dataset"
   ]
  },
  {
   "cell_type": "code",
   "execution_count": 6,
   "metadata": {},
   "outputs": [
    {
     "data": {
      "text/plain": [
       "((1535, 14637), (1535, 381))"
      ]
     },
     "execution_count": 6,
     "metadata": {},
     "output_type": "execute_result"
    }
   ],
   "source": [
    "import pandas as pd\n",
    "\n",
    "path = \"healthData/1_Mining-Stage/binary_representation/\"\n",
    "X = pd.read_csv(path+\"BPPR-W1-TEST_x1_x2_x3_x4_x5_x7_x8_Y1-2008.txt\")\n",
    "y = pd.read_csv(path+\"labels_Y1-W1-TEST_x1_x2_x3_x4_x5_x7_x8_Y1-2008.txt\")\n",
    "\n",
    "X.shape, y.shape"
   ]
  },
  {
   "cell_type": "markdown",
   "metadata": {},
   "source": [
    "### Some documentation\n",
    "\n",
    "#### About CMC ( Catégories Majeures de Diagnostic)"
   ]
  },
  {
   "cell_type": "code",
   "execution_count": 61,
   "metadata": {
    "scrolled": true
   },
   "outputs": [
    {
     "data": {
      "text/html": [
       "<div>\n",
       "<style scoped>\n",
       "    .dataframe tbody tr th:only-of-type {\n",
       "        vertical-align: middle;\n",
       "    }\n",
       "\n",
       "    .dataframe tbody tr th {\n",
       "        vertical-align: top;\n",
       "    }\n",
       "\n",
       "    .dataframe thead th {\n",
       "        text-align: right;\n",
       "    }\n",
       "</style>\n",
       "<table border=\"1\" class=\"dataframe\">\n",
       "  <thead>\n",
       "    <tr style=\"text-align: right;\">\n",
       "      <th></th>\n",
       "      <th>CMC,Libellé catégorie majeure clinique,Compléments</th>\n",
       "    </tr>\n",
       "  </thead>\n",
       "  <tbody>\n",
       "    <tr>\n",
       "      <th>0</th>\n",
       "      <td>1,Troubles mentaux organiques, y compris les t...</td>\n",
       "    </tr>\n",
       "  </tbody>\n",
       "</table>\n",
       "</div>"
      ],
      "text/plain": [
       "  CMC,Libellé catégorie majeure clinique,Compléments\n",
       "0  1,Troubles mentaux organiques, y compris les t..."
      ]
     },
     "execution_count": 61,
     "metadata": {},
     "output_type": "execute_result"
    }
   ],
   "source": [
    "cmc = pd.read_csv(\"PMSI_documentation/libCMC10.csv\", sep=\";\")\n",
    "cmc.head(1)"
   ]
  },
  {
   "cell_type": "markdown",
   "metadata": {},
   "source": [
    "#### About GHJ (Groupe Homogène de Journée avec leur Catégorie Majeure de Diagnostic d'appartenance)"
   ]
  },
  {
   "cell_type": "code",
   "execution_count": 62,
   "metadata": {
    "scrolled": true
   },
   "outputs": [
    {
     "data": {
      "text/html": [
       "<div>\n",
       "<style scoped>\n",
       "    .dataframe tbody tr th:only-of-type {\n",
       "        vertical-align: middle;\n",
       "    }\n",
       "\n",
       "    .dataframe tbody tr th {\n",
       "        vertical-align: top;\n",
       "    }\n",
       "\n",
       "    .dataframe thead th {\n",
       "        text-align: right;\n",
       "    }\n",
       "</style>\n",
       "<table border=\"1\" class=\"dataframe\">\n",
       "  <thead>\n",
       "    <tr style=\"text-align: right;\">\n",
       "      <th></th>\n",
       "      <th>GHJ</th>\n",
       "      <th>CMC</th>\n",
       "      <th>Libellé des groupes homogènes de journée</th>\n",
       "    </tr>\n",
       "  </thead>\n",
       "  <tbody>\n",
       "    <tr>\n",
       "      <th>0</th>\n",
       "      <td>C001</td>\n",
       "      <td>1</td>\n",
       "      <td>Troubles mentaux organiques, avec isolement, E...</td>\n",
       "    </tr>\n",
       "  </tbody>\n",
       "</table>\n",
       "</div>"
      ],
      "text/plain": [
       "    GHJ  CMC           Libellé des groupes homogènes de journée\n",
       "0  C001    1  Troubles mentaux organiques, avec isolement, E..."
      ]
     },
     "execution_count": 62,
     "metadata": {},
     "output_type": "execute_result"
    }
   ],
   "source": [
    "ghj = pd.read_csv(\"PMSI_documentation/libGHJ10.csv\", sep=\";\")\n",
    "ghj.head(1)"
   ]
  },
  {
   "cell_type": "markdown",
   "metadata": {},
   "source": [
    "#### CIM10 ( classification internationale des maladies, 10e révision, version française de la codification ICD10)\n",
    "\n",
    "Les codes utilisés dans le dataset sont ceux qui commencent à la lettre Z. Ils représentent les facteurs influant sur l'état de santé et motifs de recours aux services de santé et sont décrits en particulier dans la page [CIM10 - chapitre 21](https://fr.wikipedia.org/wiki/CIM-10_Chapitre_21_:_Facteurs_influant_sur_l%27%C3%A9tat_de_sant%C3%A9_et_motifs_de_recours_aux_services_de_sant%C3%A9)."
   ]
  },
  {
   "cell_type": "code",
   "execution_count": 63,
   "metadata": {},
   "outputs": [
    {
     "data": {
      "text/html": [
       "<div>\n",
       "<style scoped>\n",
       "    .dataframe tbody tr th:only-of-type {\n",
       "        vertical-align: middle;\n",
       "    }\n",
       "\n",
       "    .dataframe tbody tr th {\n",
       "        vertical-align: top;\n",
       "    }\n",
       "\n",
       "    .dataframe thead th {\n",
       "        text-align: right;\n",
       "    }\n",
       "</style>\n",
       "<table border=\"1\" class=\"dataframe\">\n",
       "  <thead>\n",
       "    <tr style=\"text-align: right;\">\n",
       "      <th></th>\n",
       "      <th>CIM10 Code</th>\n",
       "      <th>Libellé</th>\n",
       "    </tr>\n",
       "  </thead>\n",
       "  <tbody>\n",
       "    <tr>\n",
       "      <th>0</th>\n",
       "      <td>A009</td>\n",
       "      <td>Choléra, sans précision</td>\n",
       "    </tr>\n",
       "  </tbody>\n",
       "</table>\n",
       "</div>"
      ],
      "text/plain": [
       "  CIM10 Code                  Libellé\n",
       "0       A009  Choléra, sans précision"
      ]
     },
     "execution_count": 63,
     "metadata": {},
     "output_type": "execute_result"
    }
   ],
   "source": [
    "cim10 = pd.read_csv(\"PMSI_documentation/CIM10.csv\", header=None, names=['CIM10 Code', 'Libellé'], sep=\";\")\n",
    "cim10.head(1)"
   ]
  },
  {
   "cell_type": "markdown",
   "metadata": {},
   "source": [
    "#### Chargement des dictionnaires utilisés pour convertir \"un code original\" dans sa \"représentation pour l'apprentissage\""
   ]
  },
  {
   "cell_type": "code",
   "execution_count": 67,
   "metadata": {
    "scrolled": true
   },
   "outputs": [],
   "source": [
    "import json\n",
    "\n",
    "# Target 1.1: predire la CMC (Catégorie Majeure Clinique)\n",
    "with open(path+\"labels_Y11_VocabularyW1-TEST_x1_x2_x3_x4_x5_x7_x8_Y1-2008.txt\") as json_data:\n",
    "    CMC_dict = json.load(json_data)\n",
    "# Target 1.2: predire le GHJ (Groupe Homogène Journée)    \n",
    "with open(path+\"labels_Y12_VocabularyW1-TEST_x1_x2_x3_x4_x5_x7_x8_Y1-2008.txt\") as json_data:\n",
    "    GHJ_dict = json.load(json_data)\n",
    "# Target 1.3: predire l'objet de la prise en charge en SSR (finalité principale de prise en charge - grain fin)\n",
    "with open(path+\"labels_Y13_VocabularyW1-TEST_x1_x2_x3_x4_x5_x7_x8_Y1-2008.txt\") as json_data:\n",
    "    ICD10Long_dict = json.load(json_data)\n",
    "# Target 1.4: predire l'objet de la prise en charge en SSR (finalité principale de prise en charge - gros grain)\n",
    "with open(path+\"labels_Y14_VocabularyW1-TEST_x1_x2_x3_x4_x5_x7_x8_Y1-2008.txt\") as json_data:\n",
    "    ICD10short_dict = json.load(json_data)"
   ]
  },
  {
   "cell_type": "markdown",
   "metadata": {},
   "source": []
  }
 ],
 "metadata": {
  "kernelspec": {
   "display_name": "Python 3",
   "language": "python",
   "name": "python3"
  },
  "language_info": {
   "codemirror_mode": {
    "name": "ipython",
    "version": 3
   },
   "file_extension": ".py",
   "mimetype": "text/x-python",
   "name": "python",
   "nbconvert_exporter": "python",
   "pygments_lexer": "ipython3",
   "version": "3.6.6"
  }
 },
 "nbformat": 4,
 "nbformat_minor": 2
}
