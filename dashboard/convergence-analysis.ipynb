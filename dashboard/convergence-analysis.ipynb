{
 "cells": [
  {
   "cell_type": "markdown",
   "metadata": {},
   "source": [
    "# Convergence Analysis \n",
    "**Monitoring Performance for training and validation curves**\n",
    "\n",
    "+ View metrics from trainined models on diagnoseNet Framwork"
   ]
  },
  {
   "cell_type": "code",
   "execution_count": 1,
   "metadata": {},
   "outputs": [
    {
     "data": {
      "text/html": [
       "<script>requirejs.config({paths: { 'plotly': ['https://cdn.plot.ly/plotly-latest.min']},});if(!window.Plotly) {{require(['plotly'],function(plotly) {window.Plotly=plotly;});}}</script>"
      ],
      "text/vnd.plotly.v1+html": [
       "<script>requirejs.config({paths: { 'plotly': ['https://cdn.plot.ly/plotly-latest.min']},});if(!window.Plotly) {{require(['plotly'],function(plotly) {window.Plotly=plotly;});}}</script>"
      ]
     },
     "metadata": {},
     "output_type": "display_data"
    }
   ],
   "source": [
    "import numpy as np\n",
    "import pandas as pd\n",
    "\n",
    "import plotly\n",
    "from plotly import tools\n",
    "import plotly.graph_objs as go\n",
    "from plotly.offline import init_notebook_mode, plot, iplot\n",
    "import plotly.plotly as py\n",
    "\n",
    "from IPython.display import display, HTML\n",
    "init_notebook_mode(connected=True)"
   ]
  },
  {
   "cell_type": "markdown",
   "metadata": {},
   "source": [
    "### Setting the Application Host-directory that Want to Analyse"
   ]
  },
  {
   "cell_type": "code",
   "execution_count": 2,
   "metadata": {},
   "outputs": [],
   "source": [
    "### Setting application host-directory that want to analyse\n",
    "\n",
    "## Experiment names\n",
    "app_name='MLP'\n",
    "node_name='turing'\n",
    "\n",
    "## Select the directory where is the experiments\n",
    "tesbet=\"../enerGyPU/testbed/\"\n",
    "\n",
    "## Enter the Global workload parameters printed in the output of diagnosenet execution\n",
    "exp_id='W1-TEST_x1_x2_x3_x4_x5_x7_x8_Y1-FullyConnected-DesktopExecution-20190624165111'\n",
    "\n",
    "## The expermental names\n",
    "results_name=['training_track']\n",
    "batch_size=['training', 'valid']\n",
    "results_colors=['rgb(25,25,112)']\n",
    "\n",
    "# Global directory of the experiment\n",
    "Dir=tesbet+'/'+exp_id+'/'+exp_id"
   ]
  },
  {
   "cell_type": "markdown",
   "metadata": {},
   "source": [
    "### Def-00: Load Train, Validation and Test data results from \"testbed\""
   ]
  },
  {
   "cell_type": "code",
   "execution_count": 3,
   "metadata": {},
   "outputs": [],
   "source": [
    "def _load_data(dnnKey):\n",
    "    data = pd.read_csv(str(Dir+'-'+dnnKey+'.txt'), header=None, sep=\",\").as_matrix()\n",
    "    return data"
   ]
  },
  {
   "cell_type": "code",
   "execution_count": 4,
   "metadata": {},
   "outputs": [],
   "source": [
    "### Def-02: Plotly functions for each enerGyPU factor to generate the Sequence Plot\n",
    "\n",
    "def traceLoss(results, id_color):\n",
    "    axisx = _load_data(results)\n",
    "    axisy = _load_data(results)\n",
    "    trace = go.Scatter(\n",
    "        x = axisx[:,0],\n",
    "        y = axisy[:,1],\n",
    "        #name = 'Train_Loss-'+batch_size[id_],\n",
    "        name = 'Train_Loss-',\n",
    "        line = dict(\n",
    "            color = (id_color),\n",
    "            width = 3,\n",
    "            dash = 'dot')\n",
    "    )\n",
    "    return trace\n",
    "\n",
    "def traceLoss2(results, id_color):\n",
    "    axisx = _load_data(results)\n",
    "    axisy = _load_data(results)\n",
    "    trace = go.Scatter(\n",
    "        x = axisx[:,0],\n",
    "        y = axisy[:,2],\n",
    "        #name = 'V_Loss-Batch: '+batch_size[id_],\n",
    "        name = 'V_Loss-Batch:',\n",
    "        line = dict(\n",
    "            color = id_color,\n",
    "            width = 3,\n",
    "            dash = 'dash')\n",
    "    )\n",
    "    return trace\n",
    "\n",
    "def traceAcc(results, id_color):\n",
    "    axisx = _load_data(results)\n",
    "    axisy = _load_data(results)\n",
    "    trace = go.Scatter(\n",
    "        x = axisx[:,0],\n",
    "        y = axisy[:,3],\n",
    "        #name = 'Train_Acc-'+batch_size[id_],\n",
    "        name = 'Train_Acc-',\n",
    "        line = dict(\n",
    "            color = (id_color),\n",
    "            width = 3,\n",
    "            dash = 'dot')\n",
    "    )\n",
    "    return trace\n",
    "\n",
    "def traceAcc2(results, id_color):\n",
    "    axisx = _load_data(results)\n",
    "    axisy = _load_data(results)\n",
    "    trace = go.Scatter(\n",
    "        x = axisx[:,0],\n",
    "        y = axisy[:,4],\n",
    "        #name = 'V_Acc-Batch: '+batch_size[id_],\n",
    "        name = 'V_Acc-Batch',\n",
    "        line = dict(\n",
    "            color = id_color,\n",
    "            width = 3,\n",
    "            dash = 'dash')\n",
    "    )\n",
    "    return trace\n",
    "\n",
    "def layoutModelResults():\n",
    "    layout = go.Layout(\n",
    "        title=('+++ Unsupervised Learning Using Traditional Autoencoders +++'),\n",
    "        xaxis1=dict(title='Epochs', range=[0.0,10]),\n",
    "        #yaxis1=dict(title='Loss', range=[0.0,2.99]),\n",
    "        yaxis1=dict(title='Loss', type='log', autorange=True),\n",
    "        xaxis2=dict(title='Epochs', range=[0.0,10]),\n",
    "        #yaxis2=dict(title='Accuracy',range=[0.0, 1.0])\n",
    "        yaxis2=dict(title='Accuracy', type='log', autorange=True)\n",
    "    )\n",
    "    return layout"
   ]
  },
  {
   "cell_type": "code",
   "execution_count": 5,
   "metadata": {},
   "outputs": [
    {
     "name": "stdout",
     "output_type": "stream",
     "text": [
      "This is the format of your plot grid:\n",
      "[ (1,1) x1,y1 ]  [ (1,2) x2,y2 ]\n",
      "\n",
      "++++ training_track\n"
     ]
    },
    {
     "name": "stderr",
     "output_type": "stream",
     "text": [
      "/home/jagh/anaconda2/lib/python2.7/site-packages/ipykernel_launcher.py:2: FutureWarning:\n",
      "\n",
      "Method .as_matrix will be removed in a future version. Use .values instead.\n",
      "\n"
     ]
    }
   ],
   "source": [
    "fig = tools.make_subplots(rows=1, cols=2, specs=[[{},{}]],\n",
    "                          #subplot_titles=('Train-Valid Loss'),         \n",
    "                          shared_xaxes=True, shared_yaxes=False,\n",
    "                          vertical_spacing=0.03, horizontal_spacing = 0.09,          \n",
    "                          print_grid=True\n",
    "                         )\n",
    "\n",
    "id_=0\n",
    "for i in results_name:\n",
    "    print(\"++++ {}\".format(results_name[id_]))\n",
    "    fig.append_trace(traceLoss(i, results_colors[id_]), 1, 1)\n",
    "    fig.append_trace(traceLoss2(i, results_colors[id_]), 1, 1)\n",
    "    fig.append_trace(traceAcc(i, results_colors[id_]), 1, 2)\n",
    "    fig.append_trace(traceAcc2(i, results_colors[id_]), 1, 2)\n",
    "    \n",
    "    id_+=1\n",
    "\n",
    "fig['layout'].update(layoutModelResults())"
   ]
  },
  {
   "cell_type": "markdown",
   "metadata": {},
   "source": [
    "### Def-02: Hyperparameters Used and Time Counters"
   ]
  },
  {
   "cell_type": "code",
   "execution_count": 6,
   "metadata": {},
   "outputs": [],
   "source": [
    "### Def-02: Hyperparameters Used and Time Counters\n",
    "#hyper = _load_data('hyperparameters')\n",
    "#hyperparameters=pd.DataFrame({'1-Layer1' : hyper[0],\n",
    "#                              '2-Layer2' : hyper[1],\n",
    "#                              '3-Layer3' : hyper[2],\n",
    "#                              '4-Activation_funct' : hyper[3],\n",
    "#                              '5-GD_Optimizer' : hyper[4],\n",
    "#                              '6-Learning_rate' : hyper[5],\n",
    "#                              '7-Dropout-rate ' : hyper[6]\n",
    "#                             },index=[0])"
   ]
  },
  {
   "cell_type": "code",
   "execution_count": 7,
   "metadata": {},
   "outputs": [
    {
     "data": {
      "application/vnd.plotly.v1+json": {
       "data": [
        {
         "line": {
          "color": "rgb(25,25,112)",
          "dash": "dot",
          "width": 3
         },
         "name": "Train_Loss-",
         "type": "scatter",
         "x": [
          0,
          1,
          2,
          3,
          4,
          5,
          6,
          7,
          8,
          9
         ],
         "xaxis": "x1",
         "y": [
          50.75672,
          19.015085,
          12.028494,
          10.118812,
          7.97515,
          6.480319000000001,
          4.9854484,
          4.5872993,
          4.44977,
          3.8165983999999997
         ],
         "yaxis": "y1"
        },
        {
         "line": {
          "color": "rgb(25,25,112)",
          "dash": "dash",
          "width": 3
         },
         "name": "V_Loss-Batch:",
         "type": "scatter",
         "x": [
          0,
          1,
          2,
          3,
          4,
          5,
          6,
          7,
          8,
          9
         ],
         "xaxis": "x1",
         "y": [
          26.106821,
          6.5333114000000005,
          4.688052,
          2.7618606,
          2.1448994,
          1.955173,
          2.2109091,
          1.9693835,
          1.9794092,
          1.8809334999999998
         ],
         "yaxis": "y1"
        },
        {
         "line": {
          "color": "rgb(25,25,112)",
          "dash": "dot",
          "width": 3
         },
         "name": "Train_Acc-",
         "type": "scatter",
         "x": [
          0,
          1,
          2,
          3,
          4,
          5,
          6,
          7,
          8,
          9
         ],
         "xaxis": "x2",
         "y": [
          0.24,
          0.22,
          0.34,
          0.34,
          0.32,
          0.37,
          0.32,
          0.28,
          0.4199999999999999,
          0.33
         ],
         "yaxis": "y2"
        },
        {
         "line": {
          "color": "rgb(25,25,112)",
          "dash": "dash",
          "width": 3
         },
         "name": "V_Acc-Batch",
         "type": "scatter",
         "x": [
          0,
          1,
          2,
          3,
          4,
          5,
          6,
          7,
          8,
          9
         ],
         "xaxis": "x2",
         "y": [
          0.2987012987012987,
          0.3766233766233766,
          0.3636363636363637,
          0.3766233766233766,
          0.42857142857142855,
          0.4675324675324675,
          0.3376623376623377,
          0.3766233766233766,
          0.40259740259740256,
          0.4155844155844156
         ],
         "yaxis": "y2"
        }
       ],
       "layout": {
        "title": "+++ Unsupervised Learning Using Traditional Autoencoders +++",
        "xaxis1": {
         "anchor": "y1",
         "domain": [
          0,
          0.455
         ],
         "range": [
          0,
          10
         ],
         "title": "Epochs"
        },
        "xaxis2": {
         "anchor": "y2",
         "domain": [
          0.545,
          1
         ],
         "range": [
          0,
          10
         ],
         "title": "Epochs"
        },
        "yaxis1": {
         "anchor": "x1",
         "autorange": true,
         "domain": [
          0,
          1
         ],
         "title": "Loss",
         "type": "log"
        },
        "yaxis2": {
         "anchor": "x2",
         "autorange": true,
         "domain": [
          0,
          1
         ],
         "title": "Accuracy",
         "type": "log"
        }
       }
      },
      "text/html": [
       "<div id=\"8c90592b-2438-4c21-b891-9f58a990817c\" style=\"height: 525px; width: 100%;\" class=\"plotly-graph-div\"></div><script type=\"text/javascript\">require([\"plotly\"], function(Plotly) { window.PLOTLYENV=window.PLOTLYENV || {};window.PLOTLYENV.BASE_URL=\"https://plot.ly\";Plotly.newPlot(\"8c90592b-2438-4c21-b891-9f58a990817c\", [{\"name\": \"Train_Loss-\", \"yaxis\": \"y1\", \"xaxis\": \"x1\", \"y\": [50.75672, 19.015085, 12.028494, 10.118812, 7.97515, 6.480319000000001, 4.9854484, 4.5872993, 4.44977, 3.8165983999999997], \"x\": [0.0, 1.0, 2.0, 3.0, 4.0, 5.0, 6.0, 7.0, 8.0, 9.0], \"line\": {\"dash\": \"dot\", \"width\": 3, \"color\": \"rgb(25,25,112)\"}, \"type\": \"scatter\"}, {\"name\": \"V_Loss-Batch:\", \"yaxis\": \"y1\", \"xaxis\": \"x1\", \"y\": [26.106821, 6.5333114000000005, 4.688052, 2.7618606, 2.1448994, 1.955173, 2.2109091, 1.9693835, 1.9794092, 1.8809334999999998], \"x\": [0.0, 1.0, 2.0, 3.0, 4.0, 5.0, 6.0, 7.0, 8.0, 9.0], \"line\": {\"dash\": \"dash\", \"width\": 3, \"color\": \"rgb(25,25,112)\"}, \"type\": \"scatter\"}, {\"name\": \"Train_Acc-\", \"yaxis\": \"y2\", \"xaxis\": \"x2\", \"y\": [0.24, 0.22, 0.34, 0.34, 0.32, 0.37, 0.32, 0.28, 0.4199999999999999, 0.33], \"x\": [0.0, 1.0, 2.0, 3.0, 4.0, 5.0, 6.0, 7.0, 8.0, 9.0], \"line\": {\"dash\": \"dot\", \"width\": 3, \"color\": \"rgb(25,25,112)\"}, \"type\": \"scatter\"}, {\"name\": \"V_Acc-Batch\", \"yaxis\": \"y2\", \"xaxis\": \"x2\", \"y\": [0.2987012987012987, 0.3766233766233766, 0.3636363636363637, 0.3766233766233766, 0.42857142857142855, 0.4675324675324675, 0.3376623376623377, 0.3766233766233766, 0.40259740259740256, 0.4155844155844156], \"x\": [0.0, 1.0, 2.0, 3.0, 4.0, 5.0, 6.0, 7.0, 8.0, 9.0], \"line\": {\"dash\": \"dash\", \"width\": 3, \"color\": \"rgb(25,25,112)\"}, \"type\": \"scatter\"}], {\"yaxis1\": {\"autorange\": true, \"domain\": [0.0, 1.0], \"type\": \"log\", \"anchor\": \"x1\", \"title\": \"Loss\"}, \"yaxis2\": {\"autorange\": true, \"domain\": [0.0, 1.0], \"type\": \"log\", \"anchor\": \"x2\", \"title\": \"Accuracy\"}, \"xaxis2\": {\"range\": [0.0, 10], \"title\": \"Epochs\", \"domain\": [0.545, 1.0], \"anchor\": \"y2\"}, \"xaxis1\": {\"range\": [0.0, 10], \"title\": \"Epochs\", \"domain\": [0.0, 0.455], \"anchor\": \"y1\"}, \"title\": \"+++ Unsupervised Learning Using Traditional Autoencoders +++\"}, {\"linkText\": \"Export to plot.ly\", \"showLink\": true})});</script>"
      ],
      "text/vnd.plotly.v1+html": [
       "<div id=\"8c90592b-2438-4c21-b891-9f58a990817c\" style=\"height: 525px; width: 100%;\" class=\"plotly-graph-div\"></div><script type=\"text/javascript\">require([\"plotly\"], function(Plotly) { window.PLOTLYENV=window.PLOTLYENV || {};window.PLOTLYENV.BASE_URL=\"https://plot.ly\";Plotly.newPlot(\"8c90592b-2438-4c21-b891-9f58a990817c\", [{\"name\": \"Train_Loss-\", \"yaxis\": \"y1\", \"xaxis\": \"x1\", \"y\": [50.75672, 19.015085, 12.028494, 10.118812, 7.97515, 6.480319000000001, 4.9854484, 4.5872993, 4.44977, 3.8165983999999997], \"x\": [0.0, 1.0, 2.0, 3.0, 4.0, 5.0, 6.0, 7.0, 8.0, 9.0], \"line\": {\"dash\": \"dot\", \"width\": 3, \"color\": \"rgb(25,25,112)\"}, \"type\": \"scatter\"}, {\"name\": \"V_Loss-Batch:\", \"yaxis\": \"y1\", \"xaxis\": \"x1\", \"y\": [26.106821, 6.5333114000000005, 4.688052, 2.7618606, 2.1448994, 1.955173, 2.2109091, 1.9693835, 1.9794092, 1.8809334999999998], \"x\": [0.0, 1.0, 2.0, 3.0, 4.0, 5.0, 6.0, 7.0, 8.0, 9.0], \"line\": {\"dash\": \"dash\", \"width\": 3, \"color\": \"rgb(25,25,112)\"}, \"type\": \"scatter\"}, {\"name\": \"Train_Acc-\", \"yaxis\": \"y2\", \"xaxis\": \"x2\", \"y\": [0.24, 0.22, 0.34, 0.34, 0.32, 0.37, 0.32, 0.28, 0.4199999999999999, 0.33], \"x\": [0.0, 1.0, 2.0, 3.0, 4.0, 5.0, 6.0, 7.0, 8.0, 9.0], \"line\": {\"dash\": \"dot\", \"width\": 3, \"color\": \"rgb(25,25,112)\"}, \"type\": \"scatter\"}, {\"name\": \"V_Acc-Batch\", \"yaxis\": \"y2\", \"xaxis\": \"x2\", \"y\": [0.2987012987012987, 0.3766233766233766, 0.3636363636363637, 0.3766233766233766, 0.42857142857142855, 0.4675324675324675, 0.3376623376623377, 0.3766233766233766, 0.40259740259740256, 0.4155844155844156], \"x\": [0.0, 1.0, 2.0, 3.0, 4.0, 5.0, 6.0, 7.0, 8.0, 9.0], \"line\": {\"dash\": \"dash\", \"width\": 3, \"color\": \"rgb(25,25,112)\"}, \"type\": \"scatter\"}], {\"yaxis1\": {\"autorange\": true, \"domain\": [0.0, 1.0], \"type\": \"log\", \"anchor\": \"x1\", \"title\": \"Loss\"}, \"yaxis2\": {\"autorange\": true, \"domain\": [0.0, 1.0], \"type\": \"log\", \"anchor\": \"x2\", \"title\": \"Accuracy\"}, \"xaxis2\": {\"range\": [0.0, 10], \"title\": \"Epochs\", \"domain\": [0.545, 1.0], \"anchor\": \"y2\"}, \"xaxis1\": {\"range\": [0.0, 10], \"title\": \"Epochs\", \"domain\": [0.0, 0.455], \"anchor\": \"y1\"}, \"title\": \"+++ Unsupervised Learning Using Traditional Autoencoders +++\"}, {\"linkText\": \"Export to plot.ly\", \"showLink\": true})});</script>"
      ]
     },
     "metadata": {},
     "output_type": "display_data"
    }
   ],
   "source": [
    "# enerGyPU-SequencePlot is a graph that displays the behavior of factors influencing energy efficiency of GPU \n",
    "\n",
    "plotly.offline.iplot(fig)\n",
    "#url = py.plot(fig)\n",
    "\n",
    "#print \"+++++ Fine Tunning Hyperparameters Used +++++\"\n",
    "#display(hyperparameters)"
   ]
  },
  {
   "cell_type": "code",
   "execution_count": null,
   "metadata": {
    "collapsed": true
   },
   "outputs": [],
   "source": []
  }
 ],
 "metadata": {
  "anaconda-cloud": {},
  "kernelspec": {
   "display_name": "Python 2",
   "language": "python",
   "name": "python2"
  },
  "language_info": {
   "codemirror_mode": {
    "name": "ipython",
    "version": 2
   },
   "file_extension": ".py",
   "mimetype": "text/x-python",
   "name": "python",
   "nbconvert_exporter": "python",
   "pygments_lexer": "ipython2",
   "version": "2.7.16"
  }
 },
 "nbformat": 4,
 "nbformat_minor": 1
}
