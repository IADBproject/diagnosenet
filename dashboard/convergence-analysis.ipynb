{
 "cells": [
  {
   "cell_type": "markdown",
   "metadata": {},
   "source": [
    "# Convergence Analysis \n",
    "**Monitoring Performance for training and validation curves**\n",
    "\n",
    "+ View metrics from trainined models on diagnoseNet Framwork"
   ]
  },
  {
   "cell_type": "code",
   "execution_count": 8,
   "metadata": {},
   "outputs": [
    {
     "data": {
      "text/html": [
       "<script>requirejs.config({paths: { 'plotly': ['https://cdn.plot.ly/plotly-latest.min']},});if(!window.Plotly) {{require(['plotly'],function(plotly) {window.Plotly=plotly;});}}</script>"
      ],
      "text/vnd.plotly.v1+html": [
       "<script>requirejs.config({paths: { 'plotly': ['https://cdn.plot.ly/plotly-latest.min']},});if(!window.Plotly) {{require(['plotly'],function(plotly) {window.Plotly=plotly;});}}</script>"
      ]
     },
     "metadata": {},
     "output_type": "display_data"
    }
   ],
   "source": [
    "import numpy as np\n",
    "import pandas as pd\n",
    "\n",
    "import plotly\n",
    "from plotly import tools\n",
    "import plotly.graph_objs as go\n",
    "from plotly.offline import init_notebook_mode, plot, iplot\n",
    "import plotly.plotly as py\n",
    "\n",
    "from IPython.display import display, HTML\n",
    "init_notebook_mode(connected=True)"
   ]
  },
  {
   "cell_type": "markdown",
   "metadata": {},
   "source": [
    "### Setting the Application Host-directory that Want to Analyse"
   ]
  },
  {
   "cell_type": "code",
   "execution_count": 23,
   "metadata": {},
   "outputs": [],
   "source": [
    "### Setting application host-directory that want to analyse\n",
    "\n",
    "## Experiment names\n",
    "app_name='ConvECG'\n",
    "node_name='octopus'\n",
    "\n",
    "## Select the directory where is the experiments\n",
    "tesbet=\"../enerGyPU/testbed/\"\n",
    "\n",
    "## Enter the Global workload parameters printed in the output of diagnosenet execution\n",
    "exp_id='tensorflow-1024-1-201906242010'\n",
    "\n",
    "## The expermental names\n",
    "results_name=['training_track']\n",
    "batch_size=['training', 'valid']\n",
    "results_colors=['rgb(25,25,112)']\n",
    "\n",
    "# Global directory of the experiment\n",
    "Dir=tesbet+'/'+exp_id+'/'+exp_id"
   ]
  },
  {
   "cell_type": "markdown",
   "metadata": {},
   "source": [
    "### Def-00: Load Train, Validation and Test data results from \"testbed\""
   ]
  },
  {
   "cell_type": "code",
   "execution_count": 24,
   "metadata": {},
   "outputs": [],
   "source": [
    "def _load_data(dnnKey):\n",
    "    data = pd.read_csv(str(Dir+'-'+dnnKey+'.txt'), header=None, sep=\",\").as_matrix()\n",
    "    return data"
   ]
  },
  {
   "cell_type": "code",
   "execution_count": 25,
   "metadata": {},
   "outputs": [],
   "source": [
    "### Def-02: Plotly functions for each enerGyPU factor to generate the Sequence Plot\n",
    "\n",
    "def traceLoss(results, id_color):\n",
    "    axisx = _load_data(results)\n",
    "    axisy = _load_data(results)\n",
    "    trace = go.Scatter(\n",
    "        x = axisx[:,0],\n",
    "        y = axisy[:,1],\n",
    "        #name = 'Train_Loss-'+batch_size[id_],\n",
    "        name = 'Train_Loss-',\n",
    "        line = dict(\n",
    "            color = (id_color),\n",
    "            width = 3,\n",
    "            dash = 'dot')\n",
    "    )\n",
    "    return trace\n",
    "\n",
    "def traceLoss2(results, id_color):\n",
    "    axisx = _load_data(results)\n",
    "    axisy = _load_data(results)\n",
    "    trace = go.Scatter(\n",
    "        x = axisx[:,0],\n",
    "        y = axisy[:,2],\n",
    "        #name = 'V_Loss-Batch: '+batch_size[id_],\n",
    "        name = 'V_Loss-Batch:',\n",
    "        line = dict(\n",
    "            color = id_color,\n",
    "            width = 3,\n",
    "            dash = 'dash')\n",
    "    )\n",
    "    return trace\n",
    "\n",
    "def traceAcc(results, id_color):\n",
    "    axisx = _load_data(results)\n",
    "    axisy = _load_data(results)\n",
    "    trace = go.Scatter(\n",
    "        x = axisx[:,0],\n",
    "        y = axisy[:,3],\n",
    "        #name = 'Train_Acc-'+batch_size[id_],\n",
    "        name = 'Train_Acc-',\n",
    "        line = dict(\n",
    "            color = (id_color),\n",
    "            width = 3,\n",
    "            dash = 'dot')\n",
    "    )\n",
    "    return trace\n",
    "\n",
    "def traceAcc2(results, id_color):\n",
    "    axisx = _load_data(results)\n",
    "    axisy = _load_data(results)\n",
    "    trace = go.Scatter(\n",
    "        x = axisx[:,0],\n",
    "        y = axisy[:,4],\n",
    "        #name = 'V_Acc-Batch: '+batch_size[id_],\n",
    "        name = 'V_Acc-Batch',\n",
    "        line = dict(\n",
    "            color = id_color,\n",
    "            width = 3,\n",
    "            dash = 'dash')\n",
    "    )\n",
    "    return trace\n",
    "\n",
    "def layoutModelResults():\n",
    "    layout = go.Layout(\n",
    "        title=('+++ Unsupervised Learning Using Traditional Autoencoders +++'),\n",
    "        xaxis1=dict(title='Epochs', range=[0.0,29]),\n",
    "        #yaxis1=dict(title='Loss', range=[0.0,2.99]),\n",
    "        yaxis1=dict(title='Loss', type='log', autorange=True),\n",
    "        xaxis2=dict(title='Epochs', range=[0.0,29]),\n",
    "        #yaxis2=dict(title='Accuracy',range=[0.0, 1.0])\n",
    "        yaxis2=dict(title='Accuracy', type='log', autorange=True)\n",
    "    )\n",
    "    return layout"
   ]
  },
  {
   "cell_type": "code",
   "execution_count": 26,
   "metadata": {},
   "outputs": [
    {
     "name": "stdout",
     "output_type": "stream",
     "text": [
      "This is the format of your plot grid:\n",
      "[ (1,1) x1,y1 ]  [ (1,2) x2,y2 ]\n",
      "\n",
      "++++ training_track\n"
     ]
    },
    {
     "name": "stderr",
     "output_type": "stream",
     "text": [
      "/home/jagh/anaconda2/lib/python2.7/site-packages/ipykernel_launcher.py:2: FutureWarning:\n",
      "\n",
      "Method .as_matrix will be removed in a future version. Use .values instead.\n",
      "\n"
     ]
    }
   ],
   "source": [
    "fig = tools.make_subplots(rows=1, cols=2, specs=[[{},{}]],\n",
    "                          #subplot_titles=('Train-Valid Loss'),         \n",
    "                          shared_xaxes=True, shared_yaxes=False,\n",
    "                          vertical_spacing=0.03, horizontal_spacing = 0.09,          \n",
    "                          print_grid=True\n",
    "                         )\n",
    "\n",
    "id_=0\n",
    "for i in results_name:\n",
    "    print(\"++++ {}\".format(results_name[id_]))\n",
    "    fig.append_trace(traceLoss(i, results_colors[id_]), 1, 1)\n",
    "    fig.append_trace(traceLoss2(i, results_colors[id_]), 1, 1)\n",
    "    fig.append_trace(traceAcc(i, results_colors[id_]), 1, 2)\n",
    "    fig.append_trace(traceAcc2(i, results_colors[id_]), 1, 2)\n",
    "    \n",
    "    id_+=1\n",
    "\n",
    "fig['layout'].update(layoutModelResults())"
   ]
  },
  {
   "cell_type": "markdown",
   "metadata": {},
   "source": [
    "### Def-02: Hyperparameters Used and Time Counters"
   ]
  },
  {
   "cell_type": "code",
   "execution_count": 27,
   "metadata": {},
   "outputs": [],
   "source": [
    "### Def-02: Hyperparameters Used and Time Counters\n",
    "#hyper = _load_data('hyperparameters')\n",
    "#hyperparameters=pd.DataFrame({'1-Layer1' : hyper[0],\n",
    "#                              '2-Layer2' : hyper[1],\n",
    "#                              '3-Layer3' : hyper[2],\n",
    "#                              '4-Activation_funct' : hyper[3],\n",
    "#                              '5-GD_Optimizer' : hyper[4],\n",
    "#                              '6-Learning_rate' : hyper[5],\n",
    "#                              '7-Dropout-rate ' : hyper[6]\n",
    "#                             },index=[0])"
   ]
  },
  {
   "cell_type": "code",
   "execution_count": 28,
   "metadata": {},
   "outputs": [
    {
     "data": {
      "application/vnd.plotly.v1+json": {
       "data": [
        {
         "line": {
          "color": "rgb(25,25,112)",
          "dash": "dot",
          "width": 3
         },
         "name": "Train_Loss-",
         "type": "scatter",
         "x": [
          1,
          2,
          3,
          4,
          5,
          6,
          7,
          8,
          9,
          10,
          11,
          12,
          13,
          14,
          15,
          16,
          17,
          18,
          19,
          20,
          21,
          22,
          23,
          24,
          25,
          26,
          27,
          28,
          29,
          30
         ],
         "xaxis": "x1",
         "y": [
          0.8035730712165688,
          0.6933172733928107,
          0.6417608239332394,
          0.6135140925662843,
          0.5908661012827929,
          0.5705258920125383,
          0.5450108313585795,
          0.5288204255890722,
          0.507293654568318,
          0.4850689277072359,
          0.4624149511587877,
          0.44439930188533655,
          0.42176699054741945,
          0.3993681771140575,
          0.37944051326176204,
          0.3675905003776412,
          0.3489228760533133,
          0.32943277569215074,
          0.32015542623359805,
          0.3039477479843745,
          0.3042957513779926,
          0.28274160798639425,
          0.26785139567988625,
          0.2667114526766641,
          0.2565834977952333,
          0.24572302616682365,
          0.24935887411573904,
          0.2330268767749437,
          0.2290190911118906,
          0.2252811511309303
         ],
         "yaxis": "y1"
        },
        {
         "line": {
          "color": "rgb(25,25,112)",
          "dash": "dash",
          "width": 3
         },
         "name": "V_Loss-Batch:",
         "type": "scatter",
         "x": [
          1,
          2,
          3,
          4,
          5,
          6,
          7,
          8,
          9,
          10,
          11,
          12,
          13,
          14,
          15,
          16,
          17,
          18,
          19,
          20,
          21,
          22,
          23,
          24,
          25,
          26,
          27,
          28,
          29,
          30
         ],
         "xaxis": "x1",
         "y": [
          0.7232555265759673,
          0.6475807127418786,
          0.6182563410142999,
          0.6099707350018126,
          0.5865498428809263,
          0.5860415970901754,
          0.5886802680051204,
          0.6042275201752981,
          0.5637972866605683,
          0.6061387586580015,
          0.5616216806417659,
          0.5768174773602509,
          0.5467802120260792,
          0.5623315002175907,
          0.6042645672535615,
          0.5912832260258286,
          0.548324485827364,
          0.7034201910354531,
          0.5984819807044126,
          0.5869472034922348,
          0.6208852925763404,
          0.6001962324453632,
          0.6082423546499828,
          0.6037097503127183,
          0.6893414873289367,
          0.7973600288685266,
          0.6564206600690129,
          0.6073007558693729,
          0.7127435282565775,
          0.6484787211772884
         ],
         "yaxis": "y1"
        },
        {
         "line": {
          "color": "rgb(25,25,112)",
          "dash": "dot",
          "width": 3
         },
         "name": "Train_Acc-",
         "type": "scatter",
         "x": [
          1,
          2,
          3,
          4,
          5,
          6,
          7,
          8,
          9,
          10,
          11,
          12,
          13,
          14,
          15,
          16,
          17,
          18,
          19,
          20,
          21,
          22,
          23,
          24,
          25,
          26,
          27,
          28,
          29,
          30
         ],
         "xaxis": "x2",
         "y": [
          0.6472594347328806,
          0.7074824375102029,
          0.7368485541578078,
          0.7494690410063639,
          0.7614360398627587,
          0.770829929750032,
          0.7815716386211318,
          0.7884332625387928,
          0.7996038229047451,
          0.8093244567881004,
          0.8173296846920364,
          0.8241300441104337,
          0.8331563470021174,
          0.8421418068942909,
          0.8522096062734751,
          0.8571516092141735,
          0.8660145401078201,
          0.8725085770298899,
          0.8771851004737721,
          0.8822087894134865,
          0.8841692533899651,
          0.8928075477863041,
          0.8966059467407248,
          0.8995057997059258,
          0.9022422806730862,
          0.90614278712628,
          0.9087771605946692,
          0.9122896585525172,
          0.9165985950008084,
          0.9167823884986026
         ],
         "yaxis": "y2"
        },
        {
         "line": {
          "color": "rgb(25,25,112)",
          "dash": "dash",
          "width": 3
         },
         "name": "V_Acc-Batch",
         "type": "scatter",
         "x": [
          1,
          2,
          3,
          4,
          5,
          6,
          7,
          8,
          9,
          10,
          11,
          12,
          13,
          14,
          15,
          16,
          17,
          18,
          19,
          20,
          21,
          22,
          23,
          24,
          25,
          26,
          27,
          28,
          29,
          30
         ],
         "xaxis": "x2",
         "y": [
          0.6920691906005223,
          0.7315600522193209,
          0.7482049608355079,
          0.7562010443864213,
          0.7645234986945151,
          0.7682767624020878,
          0.7694190600522175,
          0.7573433420365523,
          0.7805156657963428,
          0.7780678851174914,
          0.7924281984334174,
          0.7831266318537835,
          0.7898172323759769,
          0.7976501305483003,
          0.7950391644908591,
          0.7942232375979087,
          0.7955287206266285,
          0.7816579634464733,
          0.8043407310704932,
          0.7947127937336783,
          0.8084203655352448,
          0.7969973890339391,
          0.7947127937336786,
          0.8046671018276724,
          0.8025456919060017,
          0.7956919060052189,
          0.8014033942558715,
          0.8054830287206229,
          0.8066253263707542,
          0.8107049608355059
         ],
         "yaxis": "y2"
        }
       ],
       "layout": {
        "title": "+++ Unsupervised Learning Using Traditional Autoencoders +++",
        "xaxis1": {
         "anchor": "y1",
         "domain": [
          0,
          0.455
         ],
         "range": [
          0,
          29
         ],
         "title": "Epochs"
        },
        "xaxis2": {
         "anchor": "y2",
         "domain": [
          0.545,
          1
         ],
         "range": [
          0,
          29
         ],
         "title": "Epochs"
        },
        "yaxis1": {
         "anchor": "x1",
         "autorange": true,
         "domain": [
          0,
          1
         ],
         "title": "Loss",
         "type": "log"
        },
        "yaxis2": {
         "anchor": "x2",
         "autorange": true,
         "domain": [
          0,
          1
         ],
         "title": "Accuracy",
         "type": "log"
        }
       }
      },
      "text/html": [
       "<div id=\"7da9388f-13ff-4bfc-8192-addd301cb980\" style=\"height: 525px; width: 100%;\" class=\"plotly-graph-div\"></div><script type=\"text/javascript\">require([\"plotly\"], function(Plotly) { window.PLOTLYENV=window.PLOTLYENV || {};window.PLOTLYENV.BASE_URL=\"https://plot.ly\";Plotly.newPlot(\"7da9388f-13ff-4bfc-8192-addd301cb980\", [{\"name\": \"Train_Loss-\", \"yaxis\": \"y1\", \"xaxis\": \"x1\", \"y\": [0.8035730712165688, 0.6933172733928107, 0.6417608239332394, 0.6135140925662843, 0.5908661012827929, 0.5705258920125383, 0.5450108313585795, 0.5288204255890722, 0.507293654568318, 0.4850689277072359, 0.4624149511587877, 0.44439930188533655, 0.42176699054741945, 0.3993681771140575, 0.37944051326176204, 0.3675905003776412, 0.3489228760533133, 0.32943277569215074, 0.32015542623359805, 0.3039477479843745, 0.3042957513779926, 0.28274160798639425, 0.26785139567988625, 0.2667114526766641, 0.2565834977952333, 0.24572302616682365, 0.24935887411573904, 0.2330268767749437, 0.2290190911118906, 0.2252811511309303], \"x\": [1.0, 2.0, 3.0, 4.0, 5.0, 6.0, 7.0, 8.0, 9.0, 10.0, 11.0, 12.0, 13.0, 14.0, 15.0, 16.0, 17.0, 18.0, 19.0, 20.0, 21.0, 22.0, 23.0, 24.0, 25.0, 26.0, 27.0, 28.0, 29.0, 30.0], \"line\": {\"dash\": \"dot\", \"width\": 3, \"color\": \"rgb(25,25,112)\"}, \"type\": \"scatter\"}, {\"name\": \"V_Loss-Batch:\", \"yaxis\": \"y1\", \"xaxis\": \"x1\", \"y\": [0.7232555265759673, 0.6475807127418786, 0.6182563410142999, 0.6099707350018126, 0.5865498428809263, 0.5860415970901754, 0.5886802680051204, 0.6042275201752981, 0.5637972866605683, 0.6061387586580015, 0.5616216806417659, 0.5768174773602509, 0.5467802120260792, 0.5623315002175907, 0.6042645672535615, 0.5912832260258286, 0.548324485827364, 0.7034201910354531, 0.5984819807044126, 0.5869472034922348, 0.6208852925763404, 0.6001962324453632, 0.6082423546499828, 0.6037097503127183, 0.6893414873289367, 0.7973600288685266, 0.6564206600690129, 0.6073007558693729, 0.7127435282565775, 0.6484787211772884], \"x\": [1.0, 2.0, 3.0, 4.0, 5.0, 6.0, 7.0, 8.0, 9.0, 10.0, 11.0, 12.0, 13.0, 14.0, 15.0, 16.0, 17.0, 18.0, 19.0, 20.0, 21.0, 22.0, 23.0, 24.0, 25.0, 26.0, 27.0, 28.0, 29.0, 30.0], \"line\": {\"dash\": \"dash\", \"width\": 3, \"color\": \"rgb(25,25,112)\"}, \"type\": \"scatter\"}, {\"name\": \"Train_Acc-\", \"yaxis\": \"y2\", \"xaxis\": \"x2\", \"y\": [0.6472594347328806, 0.7074824375102029, 0.7368485541578078, 0.7494690410063639, 0.7614360398627587, 0.770829929750032, 0.7815716386211318, 0.7884332625387928, 0.7996038229047451, 0.8093244567881004, 0.8173296846920364, 0.8241300441104337, 0.8331563470021174, 0.8421418068942909, 0.8522096062734751, 0.8571516092141735, 0.8660145401078201, 0.8725085770298899, 0.8771851004737721, 0.8822087894134865, 0.8841692533899651, 0.8928075477863041, 0.8966059467407248, 0.8995057997059258, 0.9022422806730862, 0.90614278712628, 0.9087771605946692, 0.9122896585525172, 0.9165985950008084, 0.9167823884986026], \"x\": [1.0, 2.0, 3.0, 4.0, 5.0, 6.0, 7.0, 8.0, 9.0, 10.0, 11.0, 12.0, 13.0, 14.0, 15.0, 16.0, 17.0, 18.0, 19.0, 20.0, 21.0, 22.0, 23.0, 24.0, 25.0, 26.0, 27.0, 28.0, 29.0, 30.0], \"line\": {\"dash\": \"dot\", \"width\": 3, \"color\": \"rgb(25,25,112)\"}, \"type\": \"scatter\"}, {\"name\": \"V_Acc-Batch\", \"yaxis\": \"y2\", \"xaxis\": \"x2\", \"y\": [0.6920691906005223, 0.7315600522193209, 0.7482049608355079, 0.7562010443864213, 0.7645234986945151, 0.7682767624020878, 0.7694190600522175, 0.7573433420365523, 0.7805156657963428, 0.7780678851174914, 0.7924281984334174, 0.7831266318537835, 0.7898172323759769, 0.7976501305483003, 0.7950391644908591, 0.7942232375979087, 0.7955287206266285, 0.7816579634464733, 0.8043407310704932, 0.7947127937336783, 0.8084203655352448, 0.7969973890339391, 0.7947127937336786, 0.8046671018276724, 0.8025456919060017, 0.7956919060052189, 0.8014033942558715, 0.8054830287206229, 0.8066253263707542, 0.8107049608355059], \"x\": [1.0, 2.0, 3.0, 4.0, 5.0, 6.0, 7.0, 8.0, 9.0, 10.0, 11.0, 12.0, 13.0, 14.0, 15.0, 16.0, 17.0, 18.0, 19.0, 20.0, 21.0, 22.0, 23.0, 24.0, 25.0, 26.0, 27.0, 28.0, 29.0, 30.0], \"line\": {\"dash\": \"dash\", \"width\": 3, \"color\": \"rgb(25,25,112)\"}, \"type\": \"scatter\"}], {\"yaxis1\": {\"autorange\": true, \"domain\": [0.0, 1.0], \"type\": \"log\", \"anchor\": \"x1\", \"title\": \"Loss\"}, \"yaxis2\": {\"autorange\": true, \"domain\": [0.0, 1.0], \"type\": \"log\", \"anchor\": \"x2\", \"title\": \"Accuracy\"}, \"xaxis2\": {\"range\": [0.0, 29], \"title\": \"Epochs\", \"domain\": [0.545, 1.0], \"anchor\": \"y2\"}, \"xaxis1\": {\"range\": [0.0, 29], \"title\": \"Epochs\", \"domain\": [0.0, 0.455], \"anchor\": \"y1\"}, \"title\": \"+++ Unsupervised Learning Using Traditional Autoencoders +++\"}, {\"linkText\": \"Export to plot.ly\", \"showLink\": true})});</script>"
      ],
      "text/vnd.plotly.v1+html": [
       "<div id=\"7da9388f-13ff-4bfc-8192-addd301cb980\" style=\"height: 525px; width: 100%;\" class=\"plotly-graph-div\"></div><script type=\"text/javascript\">require([\"plotly\"], function(Plotly) { window.PLOTLYENV=window.PLOTLYENV || {};window.PLOTLYENV.BASE_URL=\"https://plot.ly\";Plotly.newPlot(\"7da9388f-13ff-4bfc-8192-addd301cb980\", [{\"name\": \"Train_Loss-\", \"yaxis\": \"y1\", \"xaxis\": \"x1\", \"y\": [0.8035730712165688, 0.6933172733928107, 0.6417608239332394, 0.6135140925662843, 0.5908661012827929, 0.5705258920125383, 0.5450108313585795, 0.5288204255890722, 0.507293654568318, 0.4850689277072359, 0.4624149511587877, 0.44439930188533655, 0.42176699054741945, 0.3993681771140575, 0.37944051326176204, 0.3675905003776412, 0.3489228760533133, 0.32943277569215074, 0.32015542623359805, 0.3039477479843745, 0.3042957513779926, 0.28274160798639425, 0.26785139567988625, 0.2667114526766641, 0.2565834977952333, 0.24572302616682365, 0.24935887411573904, 0.2330268767749437, 0.2290190911118906, 0.2252811511309303], \"x\": [1.0, 2.0, 3.0, 4.0, 5.0, 6.0, 7.0, 8.0, 9.0, 10.0, 11.0, 12.0, 13.0, 14.0, 15.0, 16.0, 17.0, 18.0, 19.0, 20.0, 21.0, 22.0, 23.0, 24.0, 25.0, 26.0, 27.0, 28.0, 29.0, 30.0], \"line\": {\"dash\": \"dot\", \"width\": 3, \"color\": \"rgb(25,25,112)\"}, \"type\": \"scatter\"}, {\"name\": \"V_Loss-Batch:\", \"yaxis\": \"y1\", \"xaxis\": \"x1\", \"y\": [0.7232555265759673, 0.6475807127418786, 0.6182563410142999, 0.6099707350018126, 0.5865498428809263, 0.5860415970901754, 0.5886802680051204, 0.6042275201752981, 0.5637972866605683, 0.6061387586580015, 0.5616216806417659, 0.5768174773602509, 0.5467802120260792, 0.5623315002175907, 0.6042645672535615, 0.5912832260258286, 0.548324485827364, 0.7034201910354531, 0.5984819807044126, 0.5869472034922348, 0.6208852925763404, 0.6001962324453632, 0.6082423546499828, 0.6037097503127183, 0.6893414873289367, 0.7973600288685266, 0.6564206600690129, 0.6073007558693729, 0.7127435282565775, 0.6484787211772884], \"x\": [1.0, 2.0, 3.0, 4.0, 5.0, 6.0, 7.0, 8.0, 9.0, 10.0, 11.0, 12.0, 13.0, 14.0, 15.0, 16.0, 17.0, 18.0, 19.0, 20.0, 21.0, 22.0, 23.0, 24.0, 25.0, 26.0, 27.0, 28.0, 29.0, 30.0], \"line\": {\"dash\": \"dash\", \"width\": 3, \"color\": \"rgb(25,25,112)\"}, \"type\": \"scatter\"}, {\"name\": \"Train_Acc-\", \"yaxis\": \"y2\", \"xaxis\": \"x2\", \"y\": [0.6472594347328806, 0.7074824375102029, 0.7368485541578078, 0.7494690410063639, 0.7614360398627587, 0.770829929750032, 0.7815716386211318, 0.7884332625387928, 0.7996038229047451, 0.8093244567881004, 0.8173296846920364, 0.8241300441104337, 0.8331563470021174, 0.8421418068942909, 0.8522096062734751, 0.8571516092141735, 0.8660145401078201, 0.8725085770298899, 0.8771851004737721, 0.8822087894134865, 0.8841692533899651, 0.8928075477863041, 0.8966059467407248, 0.8995057997059258, 0.9022422806730862, 0.90614278712628, 0.9087771605946692, 0.9122896585525172, 0.9165985950008084, 0.9167823884986026], \"x\": [1.0, 2.0, 3.0, 4.0, 5.0, 6.0, 7.0, 8.0, 9.0, 10.0, 11.0, 12.0, 13.0, 14.0, 15.0, 16.0, 17.0, 18.0, 19.0, 20.0, 21.0, 22.0, 23.0, 24.0, 25.0, 26.0, 27.0, 28.0, 29.0, 30.0], \"line\": {\"dash\": \"dot\", \"width\": 3, \"color\": \"rgb(25,25,112)\"}, \"type\": \"scatter\"}, {\"name\": \"V_Acc-Batch\", \"yaxis\": \"y2\", \"xaxis\": \"x2\", \"y\": [0.6920691906005223, 0.7315600522193209, 0.7482049608355079, 0.7562010443864213, 0.7645234986945151, 0.7682767624020878, 0.7694190600522175, 0.7573433420365523, 0.7805156657963428, 0.7780678851174914, 0.7924281984334174, 0.7831266318537835, 0.7898172323759769, 0.7976501305483003, 0.7950391644908591, 0.7942232375979087, 0.7955287206266285, 0.7816579634464733, 0.8043407310704932, 0.7947127937336783, 0.8084203655352448, 0.7969973890339391, 0.7947127937336786, 0.8046671018276724, 0.8025456919060017, 0.7956919060052189, 0.8014033942558715, 0.8054830287206229, 0.8066253263707542, 0.8107049608355059], \"x\": [1.0, 2.0, 3.0, 4.0, 5.0, 6.0, 7.0, 8.0, 9.0, 10.0, 11.0, 12.0, 13.0, 14.0, 15.0, 16.0, 17.0, 18.0, 19.0, 20.0, 21.0, 22.0, 23.0, 24.0, 25.0, 26.0, 27.0, 28.0, 29.0, 30.0], \"line\": {\"dash\": \"dash\", \"width\": 3, \"color\": \"rgb(25,25,112)\"}, \"type\": \"scatter\"}], {\"yaxis1\": {\"autorange\": true, \"domain\": [0.0, 1.0], \"type\": \"log\", \"anchor\": \"x1\", \"title\": \"Loss\"}, \"yaxis2\": {\"autorange\": true, \"domain\": [0.0, 1.0], \"type\": \"log\", \"anchor\": \"x2\", \"title\": \"Accuracy\"}, \"xaxis2\": {\"range\": [0.0, 29], \"title\": \"Epochs\", \"domain\": [0.545, 1.0], \"anchor\": \"y2\"}, \"xaxis1\": {\"range\": [0.0, 29], \"title\": \"Epochs\", \"domain\": [0.0, 0.455], \"anchor\": \"y1\"}, \"title\": \"+++ Unsupervised Learning Using Traditional Autoencoders +++\"}, {\"linkText\": \"Export to plot.ly\", \"showLink\": true})});</script>"
      ]
     },
     "metadata": {},
     "output_type": "display_data"
    }
   ],
   "source": [
    "# enerGyPU-SequencePlot is a graph that displays the behavior of factors influencing energy efficiency of GPU \n",
    "\n",
    "plotly.offline.iplot(fig)\n",
    "#url = py.plot(fig)\n",
    "\n",
    "#print \"+++++ Fine Tunning Hyperparameters Used +++++\"\n",
    "#display(hyperparameters)"
   ]
  },
  {
   "cell_type": "code",
   "execution_count": null,
   "metadata": {},
   "outputs": [],
   "source": []
  },
  {
   "cell_type": "code",
   "execution_count": null,
   "metadata": {},
   "outputs": [],
   "source": []
  }
 ],
 "metadata": {
  "anaconda-cloud": {},
  "kernelspec": {
   "display_name": "Python 2",
   "language": "python",
   "name": "python2"
  },
  "language_info": {
   "codemirror_mode": {
    "name": "ipython",
    "version": 2
   },
   "file_extension": ".py",
   "mimetype": "text/x-python",
   "name": "python",
   "nbconvert_exporter": "python",
   "pygments_lexer": "ipython2",
   "version": "2.7.16"
  }
 },
 "nbformat": 4,
 "nbformat_minor": 1
}
